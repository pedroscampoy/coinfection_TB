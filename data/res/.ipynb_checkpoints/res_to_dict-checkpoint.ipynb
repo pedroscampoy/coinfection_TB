{
 "cells": [
  {
   "cell_type": "code",
   "execution_count": 3,
   "metadata": {},
   "outputs": [],
   "source": [
    "import pandas as pd\n",
    "import numpy as np\n",
    "import os\n",
    "import sys\n",
    "import re\n",
    "import matplotlib.pyplot as plt\n",
    "import seaborn as sns\n",
    "from matplotlib_venn import venn2\n",
    "from matplotlib_venn import venn3"
   ]
  },
  {
   "cell_type": "code",
   "execution_count": 96,
   "metadata": {},
   "outputs": [],
   "source": [
    "vcf_res = \"MTB_Base_Calibration_List.vcf\"\n",
    "mediating_res = \"MTB_Resistance_Mediating.txt\"\n",
    "laura_res = \"Lista_MUTs_Resistencia.csv\"\n"
   ]
  },
  {
   "cell_type": "code",
   "execution_count": 102,
   "metadata": {},
   "outputs": [],
   "source": [
    "vcf = pd.read_csv(vcf_res, sep='\\t', skiprows=[7], header=7)\n",
    "vcf['Antibiotic'] = vcf['INFO'].str.split(\";RES=\").str[-1]\n",
    "vcf = vcf[(~vcf['Antibiotic'].str.startswith(\"phylo\"))]\n",
    "med = pd.read_csv(mediating_res, sep='\\t', header=0)\n",
    "med['Antibiotic'] = med['Antibiotic'].astype(str)\n",
    "med = med[(med['Variant position genome stop'] != \"-\") & (~med['Antibiotic'].str.startswith(\"phylo\"))]\n",
    "med['Variant position genome stop'] = med['Variant position genome stop'].astype(int)\n",
    "lau = pd.read_csv(laura_res, sep='\\t', header=0)\n",
    "lau['Antibiotic'] = lau['Antibiotic'].astype(str)\n",
    "lau = lau[(lau['Variant position genome stop'] != \"-\") & (~lau['Antibiotic'].str.startswith(\"phylo\"))]\n",
    "lau['Variant position genome stop'] = lau['Variant position genome stop'].astype(int)"
   ]
  },
  {
   "cell_type": "code",
   "execution_count": 103,
   "metadata": {},
   "outputs": [
    {
     "data": {
      "text/html": [
       "<div>\n",
       "<style scoped>\n",
       "    .dataframe tbody tr th:only-of-type {\n",
       "        vertical-align: middle;\n",
       "    }\n",
       "\n",
       "    .dataframe tbody tr th {\n",
       "        vertical-align: top;\n",
       "    }\n",
       "\n",
       "    .dataframe thead th {\n",
       "        text-align: right;\n",
       "    }\n",
       "</style>\n",
       "<table border=\"1\" class=\"dataframe\">\n",
       "  <thead>\n",
       "    <tr style=\"text-align: right;\">\n",
       "      <th></th>\n",
       "      <th>#CHROM</th>\n",
       "      <th>POS</th>\n",
       "      <th>ID</th>\n",
       "      <th>REF</th>\n",
       "      <th>ALT</th>\n",
       "      <th>QUAL</th>\n",
       "      <th>FILTER</th>\n",
       "      <th>INFO</th>\n",
       "      <th>Antibiotic</th>\n",
       "    </tr>\n",
       "  </thead>\n",
       "  <tbody>\n",
       "    <tr>\n",
       "      <th>0</th>\n",
       "      <td>MTB_anc</td>\n",
       "      <td>6575</td>\n",
       "      <td>.</td>\n",
       "      <td>c</td>\n",
       "      <td>t</td>\n",
       "      <td>.</td>\n",
       "      <td>.</td>\n",
       "      <td>REG=coding;SVTYPE=SNP;GENE=Rv0005:gyrB:5123:72...</td>\n",
       "      <td>fluoroquinolones_(FQ)</td>\n",
       "    </tr>\n",
       "    <tr>\n",
       "      <th>1</th>\n",
       "      <td>MTB_anc</td>\n",
       "      <td>6576</td>\n",
       "      <td>.</td>\n",
       "      <td>g</td>\n",
       "      <td>a</td>\n",
       "      <td>.</td>\n",
       "      <td>.</td>\n",
       "      <td>REG=coding;SVTYPE=SNP;GENE=Rv0005:gyrB:5123:72...</td>\n",
       "      <td>fluoroquinolones_(FQ)</td>\n",
       "    </tr>\n",
       "    <tr>\n",
       "      <th>2</th>\n",
       "      <td>MTB_anc</td>\n",
       "      <td>6579</td>\n",
       "      <td>.</td>\n",
       "      <td>c</td>\n",
       "      <td>t</td>\n",
       "      <td>.</td>\n",
       "      <td>.</td>\n",
       "      <td>REG=coding;SVTYPE=SNP;GENE=Rv0005:gyrB:5123:72...</td>\n",
       "      <td>fluoroquinolones_(FQ)</td>\n",
       "    </tr>\n",
       "    <tr>\n",
       "      <th>3</th>\n",
       "      <td>MTB_anc</td>\n",
       "      <td>6579</td>\n",
       "      <td>.</td>\n",
       "      <td>c</td>\n",
       "      <td>a</td>\n",
       "      <td>.</td>\n",
       "      <td>.</td>\n",
       "      <td>REG=coding;SVTYPE=SNP;GENE=Rv0005:gyrB:5123:72...</td>\n",
       "      <td>fluoroquinolones_(FQ)</td>\n",
       "    </tr>\n",
       "    <tr>\n",
       "      <th>4</th>\n",
       "      <td>MTB_anc</td>\n",
       "      <td>6620</td>\n",
       "      <td>.</td>\n",
       "      <td>g</td>\n",
       "      <td>a</td>\n",
       "      <td>.</td>\n",
       "      <td>.</td>\n",
       "      <td>REG=coding;SVTYPE=SNP;GENE=Rv0005:gyrB:5123:72...</td>\n",
       "      <td>fluoroquinolones_(FQ)</td>\n",
       "    </tr>\n",
       "  </tbody>\n",
       "</table>\n",
       "</div>"
      ],
      "text/plain": [
       "    #CHROM   POS ID REF ALT QUAL FILTER  \\\n",
       "0  MTB_anc  6575  .   c   t    .      .   \n",
       "1  MTB_anc  6576  .   g   a    .      .   \n",
       "2  MTB_anc  6579  .   c   t    .      .   \n",
       "3  MTB_anc  6579  .   c   a    .      .   \n",
       "4  MTB_anc  6620  .   g   a    .      .   \n",
       "\n",
       "                                                INFO             Antibiotic  \n",
       "0  REG=coding;SVTYPE=SNP;GENE=Rv0005:gyrB:5123:72...  fluoroquinolones_(FQ)  \n",
       "1  REG=coding;SVTYPE=SNP;GENE=Rv0005:gyrB:5123:72...  fluoroquinolones_(FQ)  \n",
       "2  REG=coding;SVTYPE=SNP;GENE=Rv0005:gyrB:5123:72...  fluoroquinolones_(FQ)  \n",
       "3  REG=coding;SVTYPE=SNP;GENE=Rv0005:gyrB:5123:72...  fluoroquinolones_(FQ)  \n",
       "4  REG=coding;SVTYPE=SNP;GENE=Rv0005:gyrB:5123:72...  fluoroquinolones_(FQ)  "
      ]
     },
     "execution_count": 103,
     "metadata": {},
     "output_type": "execute_result"
    }
   ],
   "source": [
    "vcf.head()"
   ]
  },
  {
   "cell_type": "code",
   "execution_count": 104,
   "metadata": {},
   "outputs": [
    {
     "data": {
      "text/plain": [
       "#CHROM        object\n",
       "POS            int64\n",
       "ID            object\n",
       "REF           object\n",
       "ALT           object\n",
       "QUAL          object\n",
       "FILTER        object\n",
       "INFO          object\n",
       "Antibiotic    object\n",
       "dtype: object"
      ]
     },
     "execution_count": 104,
     "metadata": {},
     "output_type": "execute_result"
    }
   ],
   "source": [
    "vcf.dtypes"
   ]
  },
  {
   "cell_type": "code",
   "execution_count": 105,
   "metadata": {},
   "outputs": [],
   "source": [
    "lau['Antibiotic'] = lau['Antibiotic'].astype(str)"
   ]
  },
  {
   "cell_type": "code",
   "execution_count": 106,
   "metadata": {},
   "outputs": [
    {
     "data": {
      "text/plain": [
       "Variant position genome stop     int64\n",
       "WT base                         object\n",
       "Var. base                       object\n",
       "Region                          object\n",
       "Gene ID                         object\n",
       "Gene Name                       object\n",
       "Gene start                       int64\n",
       "Gene stop                        int64\n",
       "Dir.                            object\n",
       "AA change                       object\n",
       "Codon change                    object\n",
       "Variant position gene start      int64\n",
       "Antibiotic                      object\n",
       "High Confidence SNP             object\n",
       "dtype: object"
      ]
     },
     "execution_count": 106,
     "metadata": {},
     "output_type": "execute_result"
    }
   ],
   "source": [
    "lau.dtypes"
   ]
  },
  {
   "cell_type": "code",
   "execution_count": 107,
   "metadata": {},
   "outputs": [],
   "source": [
    "#lau[~lau['Antibiotic'].str.startswith(\"phylo\")]"
   ]
  },
  {
   "cell_type": "code",
   "execution_count": 108,
   "metadata": {},
   "outputs": [
    {
     "data": {
      "text/html": [
       "<div>\n",
       "<style scoped>\n",
       "    .dataframe tbody tr th:only-of-type {\n",
       "        vertical-align: middle;\n",
       "    }\n",
       "\n",
       "    .dataframe tbody tr th {\n",
       "        vertical-align: top;\n",
       "    }\n",
       "\n",
       "    .dataframe thead th {\n",
       "        text-align: right;\n",
       "    }\n",
       "</style>\n",
       "<table border=\"1\" class=\"dataframe\">\n",
       "  <thead>\n",
       "    <tr style=\"text-align: right;\">\n",
       "      <th></th>\n",
       "      <th>#CHROM</th>\n",
       "      <th>POS</th>\n",
       "      <th>ID</th>\n",
       "      <th>REF</th>\n",
       "      <th>ALT</th>\n",
       "      <th>QUAL</th>\n",
       "      <th>FILTER</th>\n",
       "      <th>INFO</th>\n",
       "      <th>Antibiotic</th>\n",
       "    </tr>\n",
       "  </thead>\n",
       "  <tbody>\n",
       "    <tr>\n",
       "      <th>0</th>\n",
       "      <td>MTB_anc</td>\n",
       "      <td>6575</td>\n",
       "      <td>.</td>\n",
       "      <td>c</td>\n",
       "      <td>t</td>\n",
       "      <td>.</td>\n",
       "      <td>.</td>\n",
       "      <td>REG=coding;SVTYPE=SNP;GENE=Rv0005:gyrB:5123:72...</td>\n",
       "      <td>fluoroquinolones_(FQ)</td>\n",
       "    </tr>\n",
       "    <tr>\n",
       "      <th>1</th>\n",
       "      <td>MTB_anc</td>\n",
       "      <td>6576</td>\n",
       "      <td>.</td>\n",
       "      <td>g</td>\n",
       "      <td>a</td>\n",
       "      <td>.</td>\n",
       "      <td>.</td>\n",
       "      <td>REG=coding;SVTYPE=SNP;GENE=Rv0005:gyrB:5123:72...</td>\n",
       "      <td>fluoroquinolones_(FQ)</td>\n",
       "    </tr>\n",
       "    <tr>\n",
       "      <th>2</th>\n",
       "      <td>MTB_anc</td>\n",
       "      <td>6579</td>\n",
       "      <td>.</td>\n",
       "      <td>c</td>\n",
       "      <td>t</td>\n",
       "      <td>.</td>\n",
       "      <td>.</td>\n",
       "      <td>REG=coding;SVTYPE=SNP;GENE=Rv0005:gyrB:5123:72...</td>\n",
       "      <td>fluoroquinolones_(FQ)</td>\n",
       "    </tr>\n",
       "    <tr>\n",
       "      <th>3</th>\n",
       "      <td>MTB_anc</td>\n",
       "      <td>6579</td>\n",
       "      <td>.</td>\n",
       "      <td>c</td>\n",
       "      <td>a</td>\n",
       "      <td>.</td>\n",
       "      <td>.</td>\n",
       "      <td>REG=coding;SVTYPE=SNP;GENE=Rv0005:gyrB:5123:72...</td>\n",
       "      <td>fluoroquinolones_(FQ)</td>\n",
       "    </tr>\n",
       "    <tr>\n",
       "      <th>4</th>\n",
       "      <td>MTB_anc</td>\n",
       "      <td>6620</td>\n",
       "      <td>.</td>\n",
       "      <td>g</td>\n",
       "      <td>a</td>\n",
       "      <td>.</td>\n",
       "      <td>.</td>\n",
       "      <td>REG=coding;SVTYPE=SNP;GENE=Rv0005:gyrB:5123:72...</td>\n",
       "      <td>fluoroquinolones_(FQ)</td>\n",
       "    </tr>\n",
       "  </tbody>\n",
       "</table>\n",
       "</div>"
      ],
      "text/plain": [
       "    #CHROM   POS ID REF ALT QUAL FILTER  \\\n",
       "0  MTB_anc  6575  .   c   t    .      .   \n",
       "1  MTB_anc  6576  .   g   a    .      .   \n",
       "2  MTB_anc  6579  .   c   t    .      .   \n",
       "3  MTB_anc  6579  .   c   a    .      .   \n",
       "4  MTB_anc  6620  .   g   a    .      .   \n",
       "\n",
       "                                                INFO             Antibiotic  \n",
       "0  REG=coding;SVTYPE=SNP;GENE=Rv0005:gyrB:5123:72...  fluoroquinolones_(FQ)  \n",
       "1  REG=coding;SVTYPE=SNP;GENE=Rv0005:gyrB:5123:72...  fluoroquinolones_(FQ)  \n",
       "2  REG=coding;SVTYPE=SNP;GENE=Rv0005:gyrB:5123:72...  fluoroquinolones_(FQ)  \n",
       "3  REG=coding;SVTYPE=SNP;GENE=Rv0005:gyrB:5123:72...  fluoroquinolones_(FQ)  \n",
       "4  REG=coding;SVTYPE=SNP;GENE=Rv0005:gyrB:5123:72...  fluoroquinolones_(FQ)  "
      ]
     },
     "execution_count": 108,
     "metadata": {},
     "output_type": "execute_result"
    }
   ],
   "source": [
    "vcf.head()"
   ]
  },
  {
   "cell_type": "code",
   "execution_count": null,
   "metadata": {},
   "outputs": [],
   "source": []
  },
  {
   "cell_type": "code",
   "execution_count": 110,
   "metadata": {
    "scrolled": true
   },
   "outputs": [
    {
     "data": {
      "text/html": [
       "<div>\n",
       "<style scoped>\n",
       "    .dataframe tbody tr th:only-of-type {\n",
       "        vertical-align: middle;\n",
       "    }\n",
       "\n",
       "    .dataframe tbody tr th {\n",
       "        vertical-align: top;\n",
       "    }\n",
       "\n",
       "    .dataframe thead th {\n",
       "        text-align: right;\n",
       "    }\n",
       "</style>\n",
       "<table border=\"1\" class=\"dataframe\">\n",
       "  <thead>\n",
       "    <tr style=\"text-align: right;\">\n",
       "      <th></th>\n",
       "      <th>Variant position genome stop</th>\n",
       "      <th>WT base</th>\n",
       "      <th>Var. base</th>\n",
       "      <th>Region</th>\n",
       "      <th>Gene ID</th>\n",
       "      <th>Gene Name</th>\n",
       "      <th>Gene start</th>\n",
       "      <th>Gene stop</th>\n",
       "      <th>Dir.</th>\n",
       "      <th>AA change</th>\n",
       "      <th>Codon change</th>\n",
       "      <th>Variant position gene start</th>\n",
       "      <th>Antibiotic</th>\n",
       "      <th>High Confidence SNP</th>\n",
       "    </tr>\n",
       "  </thead>\n",
       "  <tbody>\n",
       "    <tr>\n",
       "      <th>0</th>\n",
       "      <td>6575</td>\n",
       "      <td>c</td>\n",
       "      <td>t</td>\n",
       "      <td>coding</td>\n",
       "      <td>Rv0005</td>\n",
       "      <td>gyrB</td>\n",
       "      <td>5240</td>\n",
       "      <td>7267</td>\n",
       "      <td>+</td>\n",
       "      <td>Arg446Cys</td>\n",
       "      <td>cgt/tgt</td>\n",
       "      <td>1336</td>\n",
       "      <td>fluoroquinolones (FQ)</td>\n",
       "      <td>NaN</td>\n",
       "    </tr>\n",
       "    <tr>\n",
       "      <th>1</th>\n",
       "      <td>6620</td>\n",
       "      <td>g</td>\n",
       "      <td>c</td>\n",
       "      <td>coding</td>\n",
       "      <td>Rv0005</td>\n",
       "      <td>gyrB</td>\n",
       "      <td>5240</td>\n",
       "      <td>7267</td>\n",
       "      <td>+</td>\n",
       "      <td>Asp461His</td>\n",
       "      <td>gac/cac</td>\n",
       "      <td>1381</td>\n",
       "      <td>fluoroquinolones (FQ)</td>\n",
       "      <td>yes</td>\n",
       "    </tr>\n",
       "    <tr>\n",
       "      <th>2</th>\n",
       "      <td>6620</td>\n",
       "      <td>g</td>\n",
       "      <td>a</td>\n",
       "      <td>coding</td>\n",
       "      <td>Rv0005</td>\n",
       "      <td>gyrB</td>\n",
       "      <td>5240</td>\n",
       "      <td>7267</td>\n",
       "      <td>+</td>\n",
       "      <td>Asp461Asn</td>\n",
       "      <td>gac/aac</td>\n",
       "      <td>1381</td>\n",
       "      <td>fluoroquinolones (FQ)</td>\n",
       "      <td>yes</td>\n",
       "    </tr>\n",
       "    <tr>\n",
       "      <th>3</th>\n",
       "      <td>6621</td>\n",
       "      <td>a</td>\n",
       "      <td>c</td>\n",
       "      <td>coding</td>\n",
       "      <td>Rv0005</td>\n",
       "      <td>gyrB</td>\n",
       "      <td>5240</td>\n",
       "      <td>7267</td>\n",
       "      <td>+</td>\n",
       "      <td>Asp461Ala</td>\n",
       "      <td>gac/gcc</td>\n",
       "      <td>1382</td>\n",
       "      <td>fluoroquinolones (FQ)</td>\n",
       "      <td>yes</td>\n",
       "    </tr>\n",
       "    <tr>\n",
       "      <th>4</th>\n",
       "      <td>6734</td>\n",
       "      <td>a</td>\n",
       "      <td>g</td>\n",
       "      <td>coding</td>\n",
       "      <td>Rv0005</td>\n",
       "      <td>gyrB</td>\n",
       "      <td>5240</td>\n",
       "      <td>7267</td>\n",
       "      <td>+</td>\n",
       "      <td>Asn499Asp</td>\n",
       "      <td>aac/gac</td>\n",
       "      <td>1495</td>\n",
       "      <td>fluoroquinolones (FQ)</td>\n",
       "      <td>yes</td>\n",
       "    </tr>\n",
       "  </tbody>\n",
       "</table>\n",
       "</div>"
      ],
      "text/plain": [
       "   Variant position genome stop WT base Var. base  Region Gene ID Gene Name  \\\n",
       "0                          6575       c         t  coding  Rv0005      gyrB   \n",
       "1                          6620       g         c  coding  Rv0005      gyrB   \n",
       "2                          6620       g         a  coding  Rv0005      gyrB   \n",
       "3                          6621       a         c  coding  Rv0005      gyrB   \n",
       "4                          6734       a         g  coding  Rv0005      gyrB   \n",
       "\n",
       "   Gene start  Gene stop Dir.  AA change Codon change  \\\n",
       "0        5240       7267    +  Arg446Cys      cgt/tgt   \n",
       "1        5240       7267    +  Asp461His      gac/cac   \n",
       "2        5240       7267    +  Asp461Asn      gac/aac   \n",
       "3        5240       7267    +  Asp461Ala      gac/gcc   \n",
       "4        5240       7267    +  Asn499Asp      aac/gac   \n",
       "\n",
       "   Variant position gene start             Antibiotic High Confidence SNP  \n",
       "0                         1336  fluoroquinolones (FQ)                 NaN  \n",
       "1                         1381  fluoroquinolones (FQ)                 yes  \n",
       "2                         1381  fluoroquinolones (FQ)                 yes  \n",
       "3                         1382  fluoroquinolones (FQ)                 yes  \n",
       "4                         1495  fluoroquinolones (FQ)                 yes  "
      ]
     },
     "execution_count": 110,
     "metadata": {},
     "output_type": "execute_result"
    }
   ],
   "source": [
    "lau.head()"
   ]
  },
  {
   "cell_type": "code",
   "execution_count": 111,
   "metadata": {},
   "outputs": [],
   "source": [
    "L = set(lau['Variant position genome stop'].values)\n",
    "M = set(med['Variant position genome stop'].values)\n",
    "V = set(vcf['POS'].values)"
   ]
  },
  {
   "cell_type": "code",
   "execution_count": 112,
   "metadata": {},
   "outputs": [
    {
     "name": "stdout",
     "output_type": "stream",
     "text": [
      "298 298 226\n"
     ]
    }
   ],
   "source": [
    "print(len(L), len(M), len(V))"
   ]
  },
  {
   "cell_type": "code",
   "execution_count": 113,
   "metadata": {},
   "outputs": [
    {
     "data": {
      "image/png": "[encoded data removed]",
      "text/plain": [
       "<Figure size 432x288 with 1 Axes>"
      ]
     },
     "metadata": {},
     "output_type": "display_data"
    }
   ],
   "source": [
    "v = venn3([L, M, V], set_labels = ('L', 'M', 'V'), )"
   ]
  },
  {
   "cell_type": "raw",
   "metadata": {},
   "source": [
    "extra_V = list(V-M)"
   ]
  },
  {
   "cell_type": "code",
   "execution_count": 120,
   "metadata": {},
   "outputs": [
    {
     "name": "stdout",
     "output_type": "stream",
     "text": [
      "[1918213, 1918219, 1918220, 1918478, 761106, 1416212, 2288790, 4245147, 761116, 761127, 2155688, 2155306, 1918125, 2288686, 2288815, 6576, 1673393, 412339, 6579, 1918135, 1918136, 2154682, 413498, 1417019, 1673406, 3647041, 1918661, 2155211, 2154700, 2288717, 2289099, 2154445, 4245969, 1918418, 3645524, 2726100, 1673431, 2288860, 4407904, 2726112, 2155234, 2155241, 413807, 6768, 3646959, 1918202, 2288767]\n"
     ]
    }
   ],
   "source": [
    "print(extra_V)"
   ]
  },
  {
   "cell_type": "code",
   "execution_count": 123,
   "metadata": {},
   "outputs": [],
   "source": [
    "#estra_V_df = vcf[vcf['POS'] in extra_V]\n",
    "extra_V_df = vcf[vcf['POS'].isin(extra_V)]"
   ]
  },
  {
   "cell_type": "code",
   "execution_count": 132,
   "metadata": {},
   "outputs": [],
   "source": [
    "count_extra_V = extra_V_df['POS'].value_counts()"
   ]
  },
  {
   "cell_type": "code",
   "execution_count": 152,
   "metadata": {},
   "outputs": [
    {
     "data": {
      "text/plain": [
       "[1918219, 1918135, 6579, 1918478]"
      ]
     },
     "execution_count": 152,
     "metadata": {},
     "output_type": "execute_result"
    }
   ],
   "source": [
    "count_extra_V.index[count_extra_V.values > 1].tolist()"
   ]
  },
  {
   "cell_type": "code",
   "execution_count": null,
   "metadata": {},
   "outputs": [],
   "source": [
    "\"\"\"\n",
    "list_res_position = []\n",
    "dict_res_position_base = {}\n",
    "\n",
    "with open(\"MTB_Base_Calibration_List.vcf\", 'r') as f:\n",
    "    for line in f:\n",
    "        if line.startswith(\"#\"):\n",
    "            next(f)\n",
    "        else:\n",
    "            list_line = line.split(\"\\t\")\n",
    "            position = list_line[1]\n",
    "            nucleotide = list_line[4].upper()\n",
    "            resistance = list_line[-1].split(\";RES=\")[-1]\n",
    "            list_res_position.append(position)\n",
    "            dict_res_position_base[position] = [nucleotide, resistance] \n",
    "            #print(position, nucleotide, resistance)\n",
    "\n",
    "with open(\"MTB_Resistance_Mediating.txt\", 'r') as f:\n",
    "    for _ in range(1):\n",
    "        next(f)\n",
    "    for line in f:\n",
    "        list_line = line.split(\"\\t\")\n",
    "        if list_line[2] == \"SNP\":\n",
    "            position = list_line[1]\n",
    "            nucleotide = list_line[5].upper()\n",
    "            resistance = list_line[21]\n",
    "            if position not in list_res_position and not resistance.startswith(\"phylo\") :\n",
    "                list_res_position.append(position)\n",
    "                dict_res_position_base[position] = [nucleotide, resistance]\n",
    "\n",
    "print(dict_res_position_base)\n",
    "\"\"\""
   ]
  },
  {
   "cell_type": "code",
   "execution_count": 153,
   "metadata": {},
   "outputs": [
    {
     "data": {
      "text/html": [
       "<div>\n",
       "<style scoped>\n",
       "    .dataframe tbody tr th:only-of-type {\n",
       "        vertical-align: middle;\n",
       "    }\n",
       "\n",
       "    .dataframe tbody tr th {\n",
       "        vertical-align: top;\n",
       "    }\n",
       "\n",
       "    .dataframe thead th {\n",
       "        text-align: right;\n",
       "    }\n",
       "</style>\n",
       "<table border=\"1\" class=\"dataframe\">\n",
       "  <thead>\n",
       "    <tr style=\"text-align: right;\">\n",
       "      <th></th>\n",
       "      <th>Variant position genome start</th>\n",
       "      <th>Variant position genome stop</th>\n",
       "      <th>Var. type</th>\n",
       "      <th>Number</th>\n",
       "      <th>WT base</th>\n",
       "      <th>Var. base</th>\n",
       "      <th>Region</th>\n",
       "      <th>Gene ID</th>\n",
       "      <th>Gene Name</th>\n",
       "      <th>Gene start</th>\n",
       "      <th>...</th>\n",
       "      <th>Codon nr.</th>\n",
       "      <th>Codon nr. E. coli</th>\n",
       "      <th>Var. AA</th>\n",
       "      <th>AA change</th>\n",
       "      <th>Codon change</th>\n",
       "      <th>Variant position gene start</th>\n",
       "      <th>Variant position gene stop</th>\n",
       "      <th>Antibiotic</th>\n",
       "      <th>Reference PMID</th>\n",
       "      <th>High Confidence SNP</th>\n",
       "    </tr>\n",
       "  </thead>\n",
       "  <tbody>\n",
       "    <tr>\n",
       "      <th>0</th>\n",
       "      <td>6575</td>\n",
       "      <td>6575</td>\n",
       "      <td>SNP</td>\n",
       "      <td>1</td>\n",
       "      <td>c</td>\n",
       "      <td>t</td>\n",
       "      <td>coding</td>\n",
       "      <td>Rv0005</td>\n",
       "      <td>gyrB</td>\n",
       "      <td>5240</td>\n",
       "      <td>...</td>\n",
       "      <td>446</td>\n",
       "      <td>-</td>\n",
       "      <td>Cys</td>\n",
       "      <td>Arg446Cys</td>\n",
       "      <td>cgt/tgt</td>\n",
       "      <td>1336</td>\n",
       "      <td>1336</td>\n",
       "      <td>fluoroquinolones (FQ)</td>\n",
       "      <td>19470506</td>\n",
       "      <td>NaN</td>\n",
       "    </tr>\n",
       "    <tr>\n",
       "      <th>1</th>\n",
       "      <td>6620</td>\n",
       "      <td>6620</td>\n",
       "      <td>SNP</td>\n",
       "      <td>1</td>\n",
       "      <td>g</td>\n",
       "      <td>c</td>\n",
       "      <td>coding</td>\n",
       "      <td>Rv0005</td>\n",
       "      <td>gyrB</td>\n",
       "      <td>5240</td>\n",
       "      <td>...</td>\n",
       "      <td>461</td>\n",
       "      <td>-</td>\n",
       "      <td>His</td>\n",
       "      <td>Asp461His</td>\n",
       "      <td>gac/cac</td>\n",
       "      <td>1381</td>\n",
       "      <td>1381</td>\n",
       "      <td>fluoroquinolones (FQ)</td>\n",
       "      <td>24055765</td>\n",
       "      <td>yes</td>\n",
       "    </tr>\n",
       "    <tr>\n",
       "      <th>2</th>\n",
       "      <td>6620</td>\n",
       "      <td>6620</td>\n",
       "      <td>SNP</td>\n",
       "      <td>1</td>\n",
       "      <td>g</td>\n",
       "      <td>a</td>\n",
       "      <td>coding</td>\n",
       "      <td>Rv0005</td>\n",
       "      <td>gyrB</td>\n",
       "      <td>5240</td>\n",
       "      <td>...</td>\n",
       "      <td>461</td>\n",
       "      <td>-</td>\n",
       "      <td>Asn</td>\n",
       "      <td>Asp461Asn</td>\n",
       "      <td>gac/aac</td>\n",
       "      <td>1381</td>\n",
       "      <td>1381</td>\n",
       "      <td>fluoroquinolones (FQ)</td>\n",
       "      <td>19721073</td>\n",
       "      <td>yes</td>\n",
       "    </tr>\n",
       "  </tbody>\n",
       "</table>\n",
       "<p>3 rows × 24 columns</p>\n",
       "</div>"
      ],
      "text/plain": [
       "   Variant position genome start  Variant position genome stop Var. type  \\\n",
       "0                           6575                          6575       SNP   \n",
       "1                           6620                          6620       SNP   \n",
       "2                           6620                          6620       SNP   \n",
       "\n",
       "   Number WT base Var. base  Region Gene ID Gene Name  Gene start  ...  \\\n",
       "0       1       c         t  coding  Rv0005      gyrB        5240  ...   \n",
       "1       1       g         c  coding  Rv0005      gyrB        5240  ...   \n",
       "2       1       g         a  coding  Rv0005      gyrB        5240  ...   \n",
       "\n",
       "   Codon nr.  Codon nr. E. coli Var. AA  AA change Codon change  \\\n",
       "0        446                  -     Cys  Arg446Cys      cgt/tgt   \n",
       "1        461                  -     His  Asp461His      gac/cac   \n",
       "2        461                  -     Asn  Asp461Asn      gac/aac   \n",
       "\n",
       "  Variant position gene start Variant position gene stop  \\\n",
       "0                        1336                       1336   \n",
       "1                        1381                       1381   \n",
       "2                        1381                       1381   \n",
       "\n",
       "              Antibiotic Reference PMID  High Confidence SNP  \n",
       "0  fluoroquinolones (FQ)       19470506                  NaN  \n",
       "1  fluoroquinolones (FQ)       24055765                  yes  \n",
       "2  fluoroquinolones (FQ)       19721073                  yes  \n",
       "\n",
       "[3 rows x 24 columns]"
      ]
     },
     "execution_count": 153,
     "metadata": {},
     "output_type": "execute_result"
    }
   ],
   "source": [
    "med.head(3)"
   ]
  },
  {
   "cell_type": "code",
   "execution_count": 154,
   "metadata": {},
   "outputs": [
    {
     "data": {
      "text/html": [
       "<div>\n",
       "<style scoped>\n",
       "    .dataframe tbody tr th:only-of-type {\n",
       "        vertical-align: middle;\n",
       "    }\n",
       "\n",
       "    .dataframe tbody tr th {\n",
       "        vertical-align: top;\n",
       "    }\n",
       "\n",
       "    .dataframe thead th {\n",
       "        text-align: right;\n",
       "    }\n",
       "</style>\n",
       "<table border=\"1\" class=\"dataframe\">\n",
       "  <thead>\n",
       "    <tr style=\"text-align: right;\">\n",
       "      <th></th>\n",
       "      <th>#CHROM</th>\n",
       "      <th>POS</th>\n",
       "      <th>ID</th>\n",
       "      <th>REF</th>\n",
       "      <th>ALT</th>\n",
       "      <th>QUAL</th>\n",
       "      <th>FILTER</th>\n",
       "      <th>INFO</th>\n",
       "      <th>Antibiotic</th>\n",
       "    </tr>\n",
       "  </thead>\n",
       "  <tbody>\n",
       "    <tr>\n",
       "      <th>1</th>\n",
       "      <td>MTB_anc</td>\n",
       "      <td>6576</td>\n",
       "      <td>.</td>\n",
       "      <td>g</td>\n",
       "      <td>a</td>\n",
       "      <td>.</td>\n",
       "      <td>.</td>\n",
       "      <td>REG=coding;SVTYPE=SNP;GENE=Rv0005:gyrB:5123:72...</td>\n",
       "      <td>fluoroquinolones_(FQ)</td>\n",
       "    </tr>\n",
       "    <tr>\n",
       "      <th>2</th>\n",
       "      <td>MTB_anc</td>\n",
       "      <td>6579</td>\n",
       "      <td>.</td>\n",
       "      <td>c</td>\n",
       "      <td>t</td>\n",
       "      <td>.</td>\n",
       "      <td>.</td>\n",
       "      <td>REG=coding;SVTYPE=SNP;GENE=Rv0005:gyrB:5123:72...</td>\n",
       "      <td>fluoroquinolones_(FQ)</td>\n",
       "    </tr>\n",
       "    <tr>\n",
       "      <th>3</th>\n",
       "      <td>MTB_anc</td>\n",
       "      <td>6579</td>\n",
       "      <td>.</td>\n",
       "      <td>c</td>\n",
       "      <td>a</td>\n",
       "      <td>.</td>\n",
       "      <td>.</td>\n",
       "      <td>REG=coding;SVTYPE=SNP;GENE=Rv0005:gyrB:5123:72...</td>\n",
       "      <td>fluoroquinolones_(FQ)</td>\n",
       "    </tr>\n",
       "  </tbody>\n",
       "</table>\n",
       "</div>"
      ],
      "text/plain": [
       "    #CHROM   POS ID REF ALT QUAL FILTER  \\\n",
       "1  MTB_anc  6576  .   g   a    .      .   \n",
       "2  MTB_anc  6579  .   c   t    .      .   \n",
       "3  MTB_anc  6579  .   c   a    .      .   \n",
       "\n",
       "                                                INFO             Antibiotic  \n",
       "1  REG=coding;SVTYPE=SNP;GENE=Rv0005:gyrB:5123:72...  fluoroquinolones_(FQ)  \n",
       "2  REG=coding;SVTYPE=SNP;GENE=Rv0005:gyrB:5123:72...  fluoroquinolones_(FQ)  \n",
       "3  REG=coding;SVTYPE=SNP;GENE=Rv0005:gyrB:5123:72...  fluoroquinolones_(FQ)  "
      ]
     },
     "execution_count": 154,
     "metadata": {},
     "output_type": "execute_result"
    }
   ],
   "source": [
    "extra_V_df.head(3)"
   ]
  },
  {
   "cell_type": "code",
   "execution_count": 163,
   "metadata": {},
   "outputs": [],
   "source": [
    "list_res_position = []\n",
    "dict_res_position_base = {}\n",
    "for index in med.index:\n",
    "    position = med.loc[index,'Variant position genome stop']\n",
    "    nucleotide = med.loc[index,'Var. base'].upper()\n",
    "    resistance = med.loc[index,'Antibiotic']\n",
    "    if position in list_res_position:\n",
    "        list_value_res = dict_res_position_base[position]\n",
    "        list_value_res.append(nucleotide)\n",
    "        dict_res_position_base[position] = list_value_res\n",
    "    else:\n",
    "        list_res_position.append(position)\n",
    "        dict_res_position_base[position] = [nucleotide, resistance]\n",
    "    #print(position, nucleotide, resistance)"
   ]
  },
  {
   "cell_type": "code",
   "execution_count": 164,
   "metadata": {},
   "outputs": [
    {
     "name": "stdout",
     "output_type": "stream",
     "text": [
      "{6575: ['T', 'fluoroquinolones (FQ)'], 6620: ['C', 'fluoroquinolones (FQ)', 6620], 6621: ['C', 'fluoroquinolones (FQ)'], 6734: ['G', 'fluoroquinolones (FQ)'], 6735: ['C', 'fluoroquinolones (FQ)'], 6736: ['G', 'fluoroquinolones (FQ)'], 6737: ['C', 'fluoroquinolones (FQ)'], 6738: ['A', 'fluoroquinolones (FQ)'], 6741: ['T', 'fluoroquinolones (FQ)'], 6742: ['T', 'fluoroquinolones (FQ)'], 6749: ['A', 'fluoroquinolones (FQ)'], 6750: ['T', 'fluoroquinolones (FQ)'], 7563: ['T', 'fluoroquinolones (FQ)'], 7564: ['C', 'fluoroquinolones (FQ)'], 7566: ['A', 'fluoroquinolones (FQ)'], 7570: ['T', 'fluoroquinolones (FQ)'], 7572: ['C', 'fluoroquinolones (FQ)'], 7581: ['C', 'fluoroquinolones (FQ)', 7581, 7581], 7582: ['G', 'fluoroquinolones (FQ)', 7582, 7582], 575729: ['T', 'ethionamide (ETH)'], 576164: ['T', 'ethionamide (ETH)'], 576242: ['T', 'ethionamide (ETH)'], 576338: ['T', 'ethionamide (ETH)'], 576414: ['A', 'ethionamide (ETH)'], 576429: ['C', 'ethionamide (ETH)'], 760314: ['T', 'rifampicin (RMP)'], 761004: ['G', 'rifampicin (RMP)'], 761093: ['C', 'rifampicin (RMP)'], 761095: ['C', 'rifampicin (RMP)', 761095], 761098: ['T', 'rifampicin (RMP)', 761098], 761100: ['A', 'rifampicin (RMP)'], 761101: ['C', 'rifampicin (RMP)', 761101], 761108: ['T', 'rifampicin (RMP)'], 761109: ['T', 'rifampicin (RMP)'], 761110: ['G', 'rifampicin (RMP)', 761110], 761111: ['G', 'rifampicin (RMP)'], 761120: ['C', 'rifampicin (RMP)', 761120], 761128: ['T', 'rifampicin (RMP)', 761128], 761139: ['A', 'rifampicin (RMP)', 761139, 761139], 761140: ['C', 'rifampicin (RMP)', 761140, 761140], 761141: ['A', 'rifampicin (RMP)'], 761154: ['G', 'rifampicin (RMP)'], 761155: ['G', 'rifampicin (RMP)', 761155], 761161: ['C', 'rifampicin (RMP)'], 761277: ['T', 'rifampicin (RMP)'], 781687: ['G', 'streptomycin (SM)'], 781821: ['C', 'streptomycin (SM)'], 781822: ['G', 'streptomycin (SM)'], 801268: ['C', 'linezolid (LZD)'], 1472337: ['T', 'streptomycin (SM)'], 1472358: ['T', 'streptomycin (SM)'], 1472359: ['C', 'streptomycin (SM)'], 1472362: ['T', 'streptomycin (SM)'], 1472750: ['A', 'streptomycin (SM)'], 1472751: ['G', 'streptomycin (SM)'], 1472752: ['T', 'streptomycin (SM)'], 1473246: ['G', 'amikacin (AMK) kanamycin (KAN) capreomycin (CPR)'], 1473247: ['T', 'amikacin (AMK) kanamycin (KAN) capreomycin (CPR)'], 1473329: ['T', 'amikacin (AMK) kanamycin (KAN) capreomycin (CPR)'], 1475956: ['T', 'linezolid (LZD)'], 1476471: ['T', 'linezolid (LZD)'], 1673423: ['T', 'isoniazid (INH)'], 1673424: ['G', 'isoniazid (INH)'], 1673425: ['T', 'isoniazid (INH)'], 1673432: ['A', 'isoniazid (INH)', 1673432], 1674481: ['G', 'isoniazid (INH) ethionamide (ETH)'], 1674782: ['C', 'isoniazid (INH) ethionamide (ETH)'], 1833909: ['C', 'pyrazinamide (PZA)'], 1834325: ['A', 'pyrazinamide (PZA)'], 1834855: ['C', 'pyrazinamide (PZA)'], 1917946: ['T', 'capreomycin (CPR)'], 1917979: ['T', 'capreomycin (CPR)'], 1917991: ['T', 'capreomycin (CPR)'], 1918003: ['T', 'capreomycin (CPR)'], 1918139: ['A', 'capreomycin (CPR)'], 1918144: ['G', 'capreomycin (CPR)'], 1918211: ['A', 'capreomycin (CPR)'], 1918292: ['C', 'capreomycin (CPR)'], 1918322: ['A', 'capreomycin (CPR)'], 1918388: ['C', 'capreomycin (CPR)'], 1918487: ['T', 'capreomycin (CPR)'], 1918489: ['A', 'capreomycin (CPR)', 1918489], 1918494: ['G', 'capreomycin (CPR)'], 1918651: ['A', 'capreomycin (CPR)'], 2102240: ['A', 'isoniazid (INH) ethionamide (ETH)'], 2102715: ['G', 'isoniazid (INH) ethionamide (ETH)'], 2155167: ['G', 'isoniazid (INH)', 2155167], 2155168: ['C', 'isoniazid (INH)', 2155168, 2155168], 2155169: ['G', 'isoniazid (INH)'], 2155206: ['G', 'isoniazid (INH)'], 2155212: ['C', 'isoniazid (INH)'], 2155214: ['G', 'isoniazid (INH)'], 2155222: ['T', 'isoniazid (INH)'], 2155289: ['C', 'isoniazid (INH)'], 2155699: ['G', 'isoniazid (INH)'], 2288683: ['C', 'pyrazinamide (PZA)'], 2288697: ['C', 'pyrazinamide (PZA)'], 2288703: ['C', 'pyrazinamide (PZA)', 2288703], 2288704: ['T', 'pyrazinamide (PZA)'], 2288718: ['C', 'pyrazinamide (PZA)'], 2288719: ['G', 'pyrazinamide (PZA)'], 2288727: ['C', 'pyrazinamide (PZA)'], 2288730: ['T', 'pyrazinamide (PZA)'], 2288740: ['C', 'pyrazinamide (PZA)'], 2288752: ['C', 'pyrazinamide (PZA)'], 2288754: ['C', 'pyrazinamide (PZA)'], 2288757: ['A', 'pyrazinamide (PZA)'], 2288761: ['C', 'pyrazinamide (PZA)'], 2288764: ['C', 'pyrazinamide (PZA)'], 2288766: ['G', 'pyrazinamide (PZA)'], 2288772: ['C', 'pyrazinamide (PZA)', 2288772], 2288778: ['G', 'pyrazinamide (PZA)'], 2288779: ['A', 'pyrazinamide (PZA)'], 2288782: ['G', 'pyrazinamide (PZA)'], 2288805: ['A', 'pyrazinamide (PZA)', 2288805], 2288806: ['C', 'pyrazinamide (PZA)', 2288806], 2288817: ['A', 'pyrazinamide (PZA)', 2288817], 2288818: ['G', 'pyrazinamide (PZA)'], 2288820: ['C', 'pyrazinamide (PZA)'], 2288821: ['T', 'pyrazinamide (PZA)'], 2288823: ['C', 'pyrazinamide (PZA)'], 2288826: ['G', 'pyrazinamide (PZA)'], 2288827: ['C', 'pyrazinamide (PZA)'], 2288828: ['G', 'pyrazinamide (PZA)'], 2288830: ['C', 'pyrazinamide (PZA)'], 2288832: ['G', 'pyrazinamide (PZA)', 2288832], 2288833: ['G', 'pyrazinamide (PZA)'], 2288836: ['A', 'pyrazinamide (PZA)', 2288836], 2288838: ['A', 'pyrazinamide (PZA)'], 2288839: ['C', 'pyrazinamide (PZA)'], 2288841: ['T', 'pyrazinamide (PZA)'], 2288844: ['C', 'pyrazinamide (PZA)'], 2288847: ['C', 'pyrazinamide (PZA)', 2288847], 2288848: ['T', 'pyrazinamide (PZA)', 2288848], 2288853: ['C', 'pyrazinamide (PZA)', 2288853], 2288857: ['T', 'pyrazinamide (PZA)'], 2288859: ['G', 'pyrazinamide (PZA)'], 2288868: ['G', 'pyrazinamide (PZA)'], 2288869: ['T', 'pyrazinamide (PZA)'], 2288874: ['C', 'pyrazinamide (PZA)'], 2288880: ['C', 'pyrazinamide (PZA)'], 2288883: ['G', 'pyrazinamide (PZA)', 2288883, 2288883], 2288885: ['A', 'pyrazinamide (PZA)'], 2288886: ['C', 'pyrazinamide (PZA)', 2288886], 2288887: ['C', 'pyrazinamide (PZA)', 2288887], 2288895: ['G', 'pyrazinamide (PZA)', 2288895], 2288902: ['C', 'pyrazinamide (PZA)'], 2288920: ['A', 'pyrazinamide (PZA)', 2288920], 2288928: ['A', 'pyrazinamide (PZA)'], 2288930: ['A', 'pyrazinamide (PZA)'], 2288931: ['T', 'pyrazinamide (PZA)'], 2288933: ['G', 'pyrazinamide (PZA)'], 2288934: ['G', 'pyrazinamide (PZA)', 2288934], 2288935: ['G', 'pyrazinamide (PZA)'], 2288938: ['A', 'pyrazinamide (PZA)'], 2288944: ['G', 'pyrazinamide (PZA)', 2288944], 2288945: ['A', 'pyrazinamide (PZA)'], 2288952: ['C', 'pyrazinamide (PZA)', 2288952], 2288953: ['A', 'pyrazinamide (PZA)'], 2288954: ['A', 'pyrazinamide (PZA)'], 2288955: ['G', 'pyrazinamide (PZA)', 2288955], 2288956: ['C', 'pyrazinamide (PZA)', 2288956], 2288957: ['G', 'pyrazinamide (PZA)'], 2288960: ['A', 'pyrazinamide (PZA)', 2288960], 2288961: ['G', 'pyrazinamide (PZA)', 2288961], 2288962: ['C', 'pyrazinamide (PZA)'], 2288971: ['T', 'pyrazinamide (PZA)'], 2288982: ['T', 'pyrazinamide (PZA)'], 2288988: ['G', 'pyrazinamide (PZA)', 2288988], 2288997: ['G', 'pyrazinamide (PZA)'], 2288998: ['G', 'pyrazinamide (PZA)'], 2289000: ['G', 'pyrazinamide (PZA)', 2289000], 2289001: ['G', 'pyrazinamide (PZA)'], 2289016: ['C', 'pyrazinamide (PZA)'], 2289028: ['C', 'pyrazinamide (PZA)'], 2289029: ['A', 'pyrazinamide (PZA)'], 2289030: ['G', 'pyrazinamide (PZA)'], 2289031: ['T', 'pyrazinamide (PZA)'], 2289036: ['T', 'pyrazinamide (PZA)'], 2289038: ['C', 'pyrazinamide (PZA)', 2289038], 2289039: ['C', 'pyrazinamide (PZA)', 2289039], 2289040: ['C', 'pyrazinamide (PZA)', 2289040], 2289043: ['C', 'pyrazinamide (PZA)'], 2289050: ['G', 'pyrazinamide (PZA)'], 2289052: ['G', 'pyrazinamide (PZA)'], 2289054: ['G', 'pyrazinamide (PZA)'], 2289057: ['T', 'pyrazinamide (PZA)'], 2289061: ['C', 'pyrazinamide (PZA)'], 2289068: ['A', 'pyrazinamide (PZA)', 2289068], 2289070: ['C', 'pyrazinamide (PZA)'], 2289071: ['G', 'pyrazinamide (PZA)'], 2289072: ['G', 'pyrazinamide (PZA)', 2289072], 2289073: ['G', 'pyrazinamide (PZA)', 2289073], 2289081: ['G', 'pyrazinamide (PZA)', 2289081, 2289081], 2289082: ['T', 'pyrazinamide (PZA)'], 2289089: ['A', 'pyrazinamide (PZA)'], 2289090: ['G', 'pyrazinamide (PZA)', 2289090], 2289091: ['T', 'pyrazinamide (PZA)'], 2289096: ['C', 'pyrazinamide (PZA)', 2289096], 2289097: ['A', 'pyrazinamide (PZA)'], 2289100: ['G', 'pyrazinamide (PZA)', 2289100], 2289103: ['G', 'pyrazinamide (PZA)', 2289103], 2289108: ['G', 'pyrazinamide (PZA)'], 2289111: ['G', 'pyrazinamide (PZA)'], 2289133: ['T', 'pyrazinamide (PZA)'], 2289138: ['C', 'pyrazinamide (PZA)'], 2289140: ['G', 'pyrazinamide (PZA)'], 2289150: ['G', 'pyrazinamide (PZA)'], 2289159: ['A', 'pyrazinamide (PZA)'], 2289162: ['C', 'pyrazinamide (PZA)'], 2289171: ['A', 'pyrazinamide (PZA)'], 2289180: ['G', 'pyrazinamide (PZA)'], 2289186: ['C', 'pyrazinamide (PZA)'], 2289193: ['A', 'pyrazinamide (PZA)'], 2289200: ['A', 'pyrazinamide (PZA)'], 2289201: ['A', 'pyrazinamide (PZA)'], 2289202: ['C', 'pyrazinamide (PZA)'], 2289203: ['G', 'pyrazinamide (PZA)'], 2289204: ['C', 'pyrazinamide (PZA)'], 2289206: ['G', 'pyrazinamide (PZA)'], 2289207: ['C', 'pyrazinamide (PZA)'], 2289208: ['A', 'pyrazinamide (PZA)'], 2289213: ['G', 'pyrazinamide (PZA)', 2289213], 2289214: ['A', 'pyrazinamide (PZA)'], 2289216: ['C', 'pyrazinamide (PZA)', 2289216], 2289218: ['A', 'pyrazinamide (PZA)'], 2289219: ['C', 'pyrazinamide (PZA)', 2289219], 2289220: ['A', 'pyrazinamide (PZA)'], 2289222: ['A', 'pyrazinamide (PZA)', 2289222], 2289223: ['T', 'pyrazinamide (PZA)'], 2289225: ['C', 'pyrazinamide (PZA)'], 2289231: ['C', 'pyrazinamide (PZA)', 2289231], 2289234: ['A', 'pyrazinamide (PZA)'], 2289235: ['C', 'pyrazinamide (PZA)'], 2289239: ['T', 'pyrazinamide (PZA)', 2289239], 2289240: ['A', 'pyrazinamide (PZA)', 2289240], 2289248: ['C', 'pyrazinamide (PZA)', 2289248], 2289252: ['G', 'pyrazinamide (PZA)', 2289252, 2289252], 2715342: ['A', 'kanamycin (KAN)'], 2715346: ['T', 'kanamycin (KAN)'], 2726136: ['T', 'isoniazid (INH)'], 2726145: ['A', 'isoniazid (INH)'], 3073808: ['G', 'para-aminosalicylic acid (PAS)'], 4241078: ['G', 'ethambutol (EMB)'], 4243221: ['T', 'ethambutol (EMB)'], 4243225: ['A', 'ethambutol (EMB)'], 4243242: ['A', 'ethambutol (EMB)'], 4243245: ['A', 'ethambutol (EMB)'], 4243833: ['A', 'ethambutol (EMB)'], 4244193: ['A', 'ethambutol (EMB)'], 4244281: ['A', 'ethambutol (EMB)'], 4244617: ['T', 'ethambutol (EMB)'], 4245730: ['C', 'ethambutol (EMB)'], 4246734: ['G', 'ethambutol (EMB)'], 4247402: ['G', 'ethambutol (EMB)'], 4247429: ['G', 'ethambutol (EMB)', 4247429], 4247430: ['C', 'ethambutol (EMB)'], 4247431: ['A', 'ethambutol (EMB)', 4247431, 4247431], 4247469: ['C', 'ethambutol (EMB)'], 4247495: ['T', 'ethambutol (EMB)'], 4247496: ['G', 'ethambutol (EMB)'], 4247507: ['C', 'ethambutol (EMB)'], 4247513: ['C', 'ethambutol (EMB)'], 4247573: ['A', 'ethambutol (EMB)'], 4247717: ['G', 'ethambutol (EMB)'], 4247723: ['T', 'ethambutol (EMB)'], 4247729: ['A', 'ethambutol (EMB)', 4247729], 4247730: ['C', 'ethambutol (EMB)', 4247730], 4247863: ['G', 'ethambutol (EMB)'], 4247873: ['A', 'ethambutol (EMB)'], 4248002: ['A', 'ethambutol (EMB)'], 4248003: ['G', 'ethambutol (EMB)'], 4248747: ['A', 'ethambutol (EMB)'], 4249518: ['G', 'ethambutol (EMB)'], 4326087: ['A', 'ethionamide (ETH)'], 4326236: ['A', 'ethionamide (ETH)'], 4326300: ['G', 'ethionamide (ETH)'], 4326320: ['A', 'ethionamide (ETH)'], 4326333: ['C', 'ethionamide (ETH)'], 4326449: ['A', 'ethionamide (ETH)'], 4326461: ['G', 'ethionamide (ETH)'], 4326738: ['T', 'ethionamide (ETH)'], 4326807: ['A', 'ethionamide (ETH)'], 4326917: ['A', 'ethionamide (ETH)'], 4327224: ['G', 'ethionamide (ETH)'], 4327301: ['C', 'ethionamide (ETH)'], 4327307: ['C', 'ethionamide (ETH)'], 4327322: ['T', 'ethionamide (ETH)'], 4327346: ['A', 'ethionamide (ETH)'], 4327347: ['T', 'ethionamide (ETH)'], 4407604: ['A', 'streptomycin (SM)'], 4407790: ['T', 'streptomycin (SM)'], 4407824: ['T', 'streptomycin (SM)'], 4407931: ['C', 'streptomycin (SM)'], 4407940: ['C', 'streptomycin (SM)'], 4407992: ['A', 'streptomycin (SM)'], 4408009: ['G', 'streptomycin (SM)'], 4408102: ['C', 'streptomycin (SM)']}\n"
     ]
    }
   ],
   "source": [
    "print(dict_res_position_base)"
   ]
  },
  {
   "cell_type": "code",
   "execution_count": null,
   "metadata": {},
   "outputs": [],
   "source": []
  }
 ],
 "metadata": {
  "kernelspec": {
   "display_name": "Python 3",
   "language": "python",
   "name": "python3"
  },
  "language_info": {
   "codemirror_mode": {
    "name": "ipython",
    "version": 3
   },
   "file_extension": ".py",
   "mimetype": "text/x-python",
   "name": "python",
   "nbconvert_exporter": "python",
   "pygments_lexer": "ipython3",
   "version": "3.6.7"
  }
 },
 "nbformat": 4,
 "nbformat_minor": 2
}
